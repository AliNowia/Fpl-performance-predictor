{
 "cells": [
  {
   "cell_type": "markdown",
   "id": "07ec115a",
   "metadata": {},
   "source": [
    "# Importing Data"
   ]
  },
  {
   "cell_type": "code",
   "execution_count": 30,
   "id": "cb9ed892",
   "metadata": {},
   "outputs": [],
   "source": [
    "import pandas as pd"
   ]
  },
  {
   "cell_type": "code",
   "execution_count": 31,
   "id": "2ca9ad4d",
   "metadata": {},
   "outputs": [
    {
     "data": {
      "text/html": [
       "<div>\n",
       "<style scoped>\n",
       "    .dataframe tbody tr th:only-of-type {\n",
       "        vertical-align: middle;\n",
       "    }\n",
       "\n",
       "    .dataframe tbody tr th {\n",
       "        vertical-align: top;\n",
       "    }\n",
       "\n",
       "    .dataframe thead th {\n",
       "        text-align: right;\n",
       "    }\n",
       "</style>\n",
       "<table border=\"1\" class=\"dataframe\">\n",
       "  <thead>\n",
       "    <tr style=\"text-align: right;\">\n",
       "      <th></th>\n",
       "      <th>F1</th>\n",
       "      <th>name</th>\n",
       "      <th>role</th>\n",
       "      <th>club</th>\n",
       "      <th>games-started</th>\n",
       "      <th>minutes-played</th>\n",
       "      <th>clean-sheets</th>\n",
       "      <th>goals-conceded</th>\n",
       "      <th>defensive-contribution</th>\n",
       "      <th>bonus</th>\n",
       "      <th>ict-index</th>\n",
       "      <th>saves</th>\n",
       "      <th>assists</th>\n",
       "      <th>penalties-saved</th>\n",
       "      <th>points</th>\n",
       "      <th>red-cards</th>\n",
       "      <th>own-goals</th>\n",
       "      <th>goals-scored</th>\n",
       "      <th>current-price</th>\n",
       "      <th>season_year</th>\n",
       "    </tr>\n",
       "  </thead>\n",
       "  <tbody>\n",
       "    <tr>\n",
       "      <th>0</th>\n",
       "      <td>0</td>\n",
       "      <td>Mohamed Salah</td>\n",
       "      <td>Midfielder</td>\n",
       "      <td>Liverpool</td>\n",
       "      <td>38</td>\n",
       "      <td>3374</td>\n",
       "      <td>15</td>\n",
       "      <td>40</td>\n",
       "      <td>136</td>\n",
       "      <td>55</td>\n",
       "      <td>476.0</td>\n",
       "      <td>0</td>\n",
       "      <td>18</td>\n",
       "      <td>0</td>\n",
       "      <td>344</td>\n",
       "      <td>0</td>\n",
       "      <td>0</td>\n",
       "      <td>29</td>\n",
       "      <td>14.5</td>\n",
       "      <td>2025</td>\n",
       "    </tr>\n",
       "    <tr>\n",
       "      <th>1</th>\n",
       "      <td>1</td>\n",
       "      <td>Mohamed Salah</td>\n",
       "      <td>Midfielder</td>\n",
       "      <td>Liverpool</td>\n",
       "      <td>28</td>\n",
       "      <td>2531</td>\n",
       "      <td>8</td>\n",
       "      <td>30</td>\n",
       "      <td>0</td>\n",
       "      <td>24</td>\n",
       "      <td>346.0</td>\n",
       "      <td>0</td>\n",
       "      <td>12</td>\n",
       "      <td>0</td>\n",
       "      <td>211</td>\n",
       "      <td>0</td>\n",
       "      <td>0</td>\n",
       "      <td>18</td>\n",
       "      <td>14.5</td>\n",
       "      <td>2024</td>\n",
       "    </tr>\n",
       "    <tr>\n",
       "      <th>2</th>\n",
       "      <td>2</td>\n",
       "      <td>Mohamed Salah</td>\n",
       "      <td>Midfielder</td>\n",
       "      <td>Liverpool</td>\n",
       "      <td>37</td>\n",
       "      <td>3290</td>\n",
       "      <td>13</td>\n",
       "      <td>45</td>\n",
       "      <td>0</td>\n",
       "      <td>23</td>\n",
       "      <td>365.6</td>\n",
       "      <td>0</td>\n",
       "      <td>13</td>\n",
       "      <td>0</td>\n",
       "      <td>239</td>\n",
       "      <td>0</td>\n",
       "      <td>0</td>\n",
       "      <td>19</td>\n",
       "      <td>14.5</td>\n",
       "      <td>2023</td>\n",
       "    </tr>\n",
       "    <tr>\n",
       "      <th>3</th>\n",
       "      <td>3</td>\n",
       "      <td>Bryan Mbeumo</td>\n",
       "      <td>Midfielder</td>\n",
       "      <td>Man Utd</td>\n",
       "      <td>38</td>\n",
       "      <td>3415</td>\n",
       "      <td>9</td>\n",
       "      <td>55</td>\n",
       "      <td>273</td>\n",
       "      <td>29</td>\n",
       "      <td>340.8</td>\n",
       "      <td>0</td>\n",
       "      <td>9</td>\n",
       "      <td>0</td>\n",
       "      <td>236</td>\n",
       "      <td>0</td>\n",
       "      <td>0</td>\n",
       "      <td>20</td>\n",
       "      <td>8.0</td>\n",
       "      <td>2025</td>\n",
       "    </tr>\n",
       "    <tr>\n",
       "      <th>4</th>\n",
       "      <td>4</td>\n",
       "      <td>Bryan Mbeumo</td>\n",
       "      <td>Midfielder</td>\n",
       "      <td>Man Utd</td>\n",
       "      <td>22</td>\n",
       "      <td>1957</td>\n",
       "      <td>5</td>\n",
       "      <td>31</td>\n",
       "      <td>0</td>\n",
       "      <td>12</td>\n",
       "      <td>170.1</td>\n",
       "      <td>0</td>\n",
       "      <td>7</td>\n",
       "      <td>0</td>\n",
       "      <td>127</td>\n",
       "      <td>0</td>\n",
       "      <td>0</td>\n",
       "      <td>9</td>\n",
       "      <td>8.0</td>\n",
       "      <td>2024</td>\n",
       "    </tr>\n",
       "  </tbody>\n",
       "</table>\n",
       "</div>"
      ],
      "text/plain": [
       "   F1           name        role       club  games-started  minutes-played  \\\n",
       "0   0  Mohamed Salah  Midfielder  Liverpool             38            3374   \n",
       "1   1  Mohamed Salah  Midfielder  Liverpool             28            2531   \n",
       "2   2  Mohamed Salah  Midfielder  Liverpool             37            3290   \n",
       "3   3   Bryan Mbeumo  Midfielder    Man Utd             38            3415   \n",
       "4   4   Bryan Mbeumo  Midfielder    Man Utd             22            1957   \n",
       "\n",
       "   clean-sheets  goals-conceded  defensive-contribution  bonus  ict-index  \\\n",
       "0            15              40                     136     55      476.0   \n",
       "1             8              30                       0     24      346.0   \n",
       "2            13              45                       0     23      365.6   \n",
       "3             9              55                     273     29      340.8   \n",
       "4             5              31                       0     12      170.1   \n",
       "\n",
       "   saves  assists  penalties-saved  points  red-cards  own-goals  \\\n",
       "0      0       18                0     344          0          0   \n",
       "1      0       12                0     211          0          0   \n",
       "2      0       13                0     239          0          0   \n",
       "3      0        9                0     236          0          0   \n",
       "4      0        7                0     127          0          0   \n",
       "\n",
       "   goals-scored  current-price  season_year  \n",
       "0            29           14.5         2025  \n",
       "1            18           14.5         2024  \n",
       "2            19           14.5         2023  \n",
       "3            20            8.0         2025  \n",
       "4             9            8.0         2024  "
      ]
     },
     "execution_count": 31,
     "metadata": {},
     "output_type": "execute_result"
    }
   ],
   "source": [
    "df = pd.read_csv('data/modified.csv')\n",
    "df.head()"
   ]
  },
  {
   "cell_type": "markdown",
   "id": "83f5532c",
   "metadata": {},
   "source": [
    "# Exploring the Data"
   ]
  },
  {
   "cell_type": "code",
   "execution_count": 32,
   "id": "4e1a3a4b",
   "metadata": {},
   "outputs": [
    {
     "name": "stdout",
     "output_type": "stream",
     "text": [
      "<class 'pandas.core.frame.DataFrame'>\n",
      "RangeIndex: 1016 entries, 0 to 1015\n",
      "Data columns (total 20 columns):\n",
      " #   Column                  Non-Null Count  Dtype  \n",
      "---  ------                  --------------  -----  \n",
      " 0   F1                      1016 non-null   int64  \n",
      " 1   name                    1016 non-null   object \n",
      " 2   role                    1016 non-null   object \n",
      " 3   club                    1016 non-null   object \n",
      " 4   games-started           1016 non-null   int64  \n",
      " 5   minutes-played          1016 non-null   int64  \n",
      " 6   clean-sheets            1016 non-null   int64  \n",
      " 7   goals-conceded          1016 non-null   int64  \n",
      " 8   defensive-contribution  1016 non-null   int64  \n",
      " 9   bonus                   1016 non-null   int64  \n",
      " 10  ict-index               1016 non-null   float64\n",
      " 11  saves                   1016 non-null   int64  \n",
      " 12  assists                 1016 non-null   int64  \n",
      " 13  penalties-saved         1016 non-null   int64  \n",
      " 14  points                  1016 non-null   int64  \n",
      " 15  red-cards               1016 non-null   int64  \n",
      " 16  own-goals               1016 non-null   int64  \n",
      " 17  goals-scored            1016 non-null   int64  \n",
      " 18  current-price           1016 non-null   float64\n",
      " 19  season_year             1016 non-null   int64  \n",
      "dtypes: float64(2), int64(15), object(3)\n",
      "memory usage: 158.9+ KB\n"
     ]
    }
   ],
   "source": [
    "df.info()"
   ]
  },
  {
   "cell_type": "code",
   "execution_count": 33,
   "id": "cae07c09",
   "metadata": {},
   "outputs": [
    {
     "data": {
      "text/html": [
       "<div>\n",
       "<style scoped>\n",
       "    .dataframe tbody tr th:only-of-type {\n",
       "        vertical-align: middle;\n",
       "    }\n",
       "\n",
       "    .dataframe tbody tr th {\n",
       "        vertical-align: top;\n",
       "    }\n",
       "\n",
       "    .dataframe thead th {\n",
       "        text-align: right;\n",
       "    }\n",
       "</style>\n",
       "<table border=\"1\" class=\"dataframe\">\n",
       "  <thead>\n",
       "    <tr style=\"text-align: right;\">\n",
       "      <th></th>\n",
       "      <th>F1</th>\n",
       "      <th>games-started</th>\n",
       "      <th>minutes-played</th>\n",
       "      <th>clean-sheets</th>\n",
       "      <th>goals-conceded</th>\n",
       "      <th>defensive-contribution</th>\n",
       "      <th>bonus</th>\n",
       "      <th>ict-index</th>\n",
       "      <th>saves</th>\n",
       "      <th>assists</th>\n",
       "      <th>penalties-saved</th>\n",
       "      <th>points</th>\n",
       "      <th>red-cards</th>\n",
       "      <th>own-goals</th>\n",
       "      <th>goals-scored</th>\n",
       "      <th>current-price</th>\n",
       "      <th>season_year</th>\n",
       "    </tr>\n",
       "  </thead>\n",
       "  <tbody>\n",
       "    <tr>\n",
       "      <th>count</th>\n",
       "      <td>1016.000000</td>\n",
       "      <td>1016.000000</td>\n",
       "      <td>1016.000000</td>\n",
       "      <td>1016.000000</td>\n",
       "      <td>1016.000000</td>\n",
       "      <td>1016.000000</td>\n",
       "      <td>1016.000000</td>\n",
       "      <td>1016.000000</td>\n",
       "      <td>1016.000000</td>\n",
       "      <td>1016.000000</td>\n",
       "      <td>1016.000000</td>\n",
       "      <td>1016.000000</td>\n",
       "      <td>1016.000000</td>\n",
       "      <td>1016.000000</td>\n",
       "      <td>1016.000000</td>\n",
       "      <td>1016.000000</td>\n",
       "      <td>1016.000000</td>\n",
       "    </tr>\n",
       "    <tr>\n",
       "      <th>mean</th>\n",
       "      <td>554.201772</td>\n",
       "      <td>17.586614</td>\n",
       "      <td>1566.087598</td>\n",
       "      <td>4.763780</td>\n",
       "      <td>24.723425</td>\n",
       "      <td>44.586614</td>\n",
       "      <td>5.444882</td>\n",
       "      <td>86.008268</td>\n",
       "      <td>5.372047</td>\n",
       "      <td>2.196850</td>\n",
       "      <td>0.031496</td>\n",
       "      <td>68.048228</td>\n",
       "      <td>0.086614</td>\n",
       "      <td>0.081693</td>\n",
       "      <td>2.437992</td>\n",
       "      <td>5.418307</td>\n",
       "      <td>2024.119094</td>\n",
       "    </tr>\n",
       "    <tr>\n",
       "      <th>std</th>\n",
       "      <td>342.420954</td>\n",
       "      <td>12.220083</td>\n",
       "      <td>1045.120252</td>\n",
       "      <td>4.096774</td>\n",
       "      <td>17.114545</td>\n",
       "      <td>84.576129</td>\n",
       "      <td>6.845869</td>\n",
       "      <td>73.443388</td>\n",
       "      <td>21.939895</td>\n",
       "      <td>2.939895</td>\n",
       "      <td>0.210540</td>\n",
       "      <td>50.762566</td>\n",
       "      <td>0.298400</td>\n",
       "      <td>0.311076</td>\n",
       "      <td>4.044103</td>\n",
       "      <td>1.254438</td>\n",
       "      <td>0.805516</td>\n",
       "    </tr>\n",
       "    <tr>\n",
       "      <th>min</th>\n",
       "      <td>0.000000</td>\n",
       "      <td>0.000000</td>\n",
       "      <td>1.000000</td>\n",
       "      <td>0.000000</td>\n",
       "      <td>0.000000</td>\n",
       "      <td>0.000000</td>\n",
       "      <td>0.000000</td>\n",
       "      <td>0.000000</td>\n",
       "      <td>0.000000</td>\n",
       "      <td>0.000000</td>\n",
       "      <td>0.000000</td>\n",
       "      <td>0.000000</td>\n",
       "      <td>0.000000</td>\n",
       "      <td>0.000000</td>\n",
       "      <td>0.000000</td>\n",
       "      <td>4.000000</td>\n",
       "      <td>2023.000000</td>\n",
       "    </tr>\n",
       "    <tr>\n",
       "      <th>25%</th>\n",
       "      <td>266.750000</td>\n",
       "      <td>6.000000</td>\n",
       "      <td>612.250000</td>\n",
       "      <td>1.000000</td>\n",
       "      <td>10.000000</td>\n",
       "      <td>0.000000</td>\n",
       "      <td>0.000000</td>\n",
       "      <td>29.350000</td>\n",
       "      <td>0.000000</td>\n",
       "      <td>0.000000</td>\n",
       "      <td>0.000000</td>\n",
       "      <td>27.000000</td>\n",
       "      <td>0.000000</td>\n",
       "      <td>0.000000</td>\n",
       "      <td>0.000000</td>\n",
       "      <td>4.500000</td>\n",
       "      <td>2023.000000</td>\n",
       "    </tr>\n",
       "    <tr>\n",
       "      <th>50%</th>\n",
       "      <td>535.500000</td>\n",
       "      <td>18.000000</td>\n",
       "      <td>1586.500000</td>\n",
       "      <td>4.000000</td>\n",
       "      <td>24.000000</td>\n",
       "      <td>0.000000</td>\n",
       "      <td>3.000000</td>\n",
       "      <td>72.200000</td>\n",
       "      <td>0.000000</td>\n",
       "      <td>1.000000</td>\n",
       "      <td>0.000000</td>\n",
       "      <td>60.000000</td>\n",
       "      <td>0.000000</td>\n",
       "      <td>0.000000</td>\n",
       "      <td>1.000000</td>\n",
       "      <td>5.000000</td>\n",
       "      <td>2024.000000</td>\n",
       "    </tr>\n",
       "    <tr>\n",
       "      <th>75%</th>\n",
       "      <td>809.250000</td>\n",
       "      <td>28.000000</td>\n",
       "      <td>2485.000000</td>\n",
       "      <td>8.000000</td>\n",
       "      <td>38.000000</td>\n",
       "      <td>53.250000</td>\n",
       "      <td>8.000000</td>\n",
       "      <td>122.475000</td>\n",
       "      <td>0.000000</td>\n",
       "      <td>3.000000</td>\n",
       "      <td>0.000000</td>\n",
       "      <td>103.250000</td>\n",
       "      <td>0.000000</td>\n",
       "      <td>0.000000</td>\n",
       "      <td>3.000000</td>\n",
       "      <td>6.000000</td>\n",
       "      <td>2025.000000</td>\n",
       "    </tr>\n",
       "    <tr>\n",
       "      <th>max</th>\n",
       "      <td>1353.000000</td>\n",
       "      <td>38.000000</td>\n",
       "      <td>3420.000000</td>\n",
       "      <td>19.000000</td>\n",
       "      <td>79.000000</td>\n",
       "      <td>455.000000</td>\n",
       "      <td>55.000000</td>\n",
       "      <td>476.000000</td>\n",
       "      <td>154.000000</td>\n",
       "      <td>18.000000</td>\n",
       "      <td>2.000000</td>\n",
       "      <td>344.000000</td>\n",
       "      <td>2.000000</td>\n",
       "      <td>3.000000</td>\n",
       "      <td>36.000000</td>\n",
       "      <td>14.500000</td>\n",
       "      <td>2025.000000</td>\n",
       "    </tr>\n",
       "  </tbody>\n",
       "</table>\n",
       "</div>"
      ],
      "text/plain": [
       "                F1  games-started  minutes-played  clean-sheets  \\\n",
       "count  1016.000000    1016.000000     1016.000000   1016.000000   \n",
       "mean    554.201772      17.586614     1566.087598      4.763780   \n",
       "std     342.420954      12.220083     1045.120252      4.096774   \n",
       "min       0.000000       0.000000        1.000000      0.000000   \n",
       "25%     266.750000       6.000000      612.250000      1.000000   \n",
       "50%     535.500000      18.000000     1586.500000      4.000000   \n",
       "75%     809.250000      28.000000     2485.000000      8.000000   \n",
       "max    1353.000000      38.000000     3420.000000     19.000000   \n",
       "\n",
       "       goals-conceded  defensive-contribution        bonus    ict-index  \\\n",
       "count     1016.000000             1016.000000  1016.000000  1016.000000   \n",
       "mean        24.723425               44.586614     5.444882    86.008268   \n",
       "std         17.114545               84.576129     6.845869    73.443388   \n",
       "min          0.000000                0.000000     0.000000     0.000000   \n",
       "25%         10.000000                0.000000     0.000000    29.350000   \n",
       "50%         24.000000                0.000000     3.000000    72.200000   \n",
       "75%         38.000000               53.250000     8.000000   122.475000   \n",
       "max         79.000000              455.000000    55.000000   476.000000   \n",
       "\n",
       "             saves      assists  penalties-saved       points    red-cards  \\\n",
       "count  1016.000000  1016.000000      1016.000000  1016.000000  1016.000000   \n",
       "mean      5.372047     2.196850         0.031496    68.048228     0.086614   \n",
       "std      21.939895     2.939895         0.210540    50.762566     0.298400   \n",
       "min       0.000000     0.000000         0.000000     0.000000     0.000000   \n",
       "25%       0.000000     0.000000         0.000000    27.000000     0.000000   \n",
       "50%       0.000000     1.000000         0.000000    60.000000     0.000000   \n",
       "75%       0.000000     3.000000         0.000000   103.250000     0.000000   \n",
       "max     154.000000    18.000000         2.000000   344.000000     2.000000   \n",
       "\n",
       "         own-goals  goals-scored  current-price  season_year  \n",
       "count  1016.000000   1016.000000    1016.000000  1016.000000  \n",
       "mean      0.081693      2.437992       5.418307  2024.119094  \n",
       "std       0.311076      4.044103       1.254438     0.805516  \n",
       "min       0.000000      0.000000       4.000000  2023.000000  \n",
       "25%       0.000000      0.000000       4.500000  2023.000000  \n",
       "50%       0.000000      1.000000       5.000000  2024.000000  \n",
       "75%       0.000000      3.000000       6.000000  2025.000000  \n",
       "max       3.000000     36.000000      14.500000  2025.000000  "
      ]
     },
     "execution_count": 33,
     "metadata": {},
     "output_type": "execute_result"
    }
   ],
   "source": [
    "df.describe()"
   ]
  },
  {
   "cell_type": "markdown",
   "id": "1188fb8a",
   "metadata": {},
   "source": [
    "# Preprocessing"
   ]
  },
  {
   "cell_type": "code",
   "execution_count": 34,
   "id": "f32fd8cb",
   "metadata": {},
   "outputs": [],
   "source": [
    "df.drop(columns='F1', inplace=True)"
   ]
  },
  {
   "cell_type": "code",
   "execution_count": 35,
   "id": "b86ba95f",
   "metadata": {},
   "outputs": [],
   "source": [
    "df['season_year'] = df['season_year'].astype('str')"
   ]
  },
  {
   "cell_type": "code",
   "execution_count": 36,
   "id": "e0953057",
   "metadata": {},
   "outputs": [],
   "source": [
    "# remove seasons of a player with less than 90 minutes on the field\n",
    "lowest_minutes = df.loc[df['minutes-played'] < 90].index\n",
    "for i in lowest_minutes:\n",
    "    df.drop(index=i, inplace=True)"
   ]
  },
  {
   "cell_type": "code",
   "execution_count": 37,
   "id": "c310a461",
   "metadata": {},
   "outputs": [
    {
     "data": {
      "text/html": [
       "<div>\n",
       "<style scoped>\n",
       "    .dataframe tbody tr th:only-of-type {\n",
       "        vertical-align: middle;\n",
       "    }\n",
       "\n",
       "    .dataframe tbody tr th {\n",
       "        vertical-align: top;\n",
       "    }\n",
       "\n",
       "    .dataframe thead th {\n",
       "        text-align: right;\n",
       "    }\n",
       "</style>\n",
       "<table border=\"1\" class=\"dataframe\">\n",
       "  <thead>\n",
       "    <tr style=\"text-align: right;\">\n",
       "      <th></th>\n",
       "      <th>games-started</th>\n",
       "      <th>minutes-played</th>\n",
       "      <th>clean-sheets</th>\n",
       "      <th>goals-conceded</th>\n",
       "      <th>defensive-contribution</th>\n",
       "      <th>bonus</th>\n",
       "      <th>ict-index</th>\n",
       "      <th>saves</th>\n",
       "      <th>assists</th>\n",
       "      <th>penalties-saved</th>\n",
       "      <th>points</th>\n",
       "      <th>red-cards</th>\n",
       "      <th>own-goals</th>\n",
       "      <th>goals-scored</th>\n",
       "      <th>current-price</th>\n",
       "    </tr>\n",
       "  </thead>\n",
       "  <tbody>\n",
       "    <tr>\n",
       "      <th>count</th>\n",
       "      <td>935.000000</td>\n",
       "      <td>935.000000</td>\n",
       "      <td>935.000000</td>\n",
       "      <td>935.000000</td>\n",
       "      <td>935.000000</td>\n",
       "      <td>935.000000</td>\n",
       "      <td>935.000000</td>\n",
       "      <td>935.000000</td>\n",
       "      <td>935.000000</td>\n",
       "      <td>935.000000</td>\n",
       "      <td>935.000000</td>\n",
       "      <td>935.000000</td>\n",
       "      <td>935.000000</td>\n",
       "      <td>935.000000</td>\n",
       "      <td>935.000000</td>\n",
       "    </tr>\n",
       "    <tr>\n",
       "      <th>mean</th>\n",
       "      <td>19.100535</td>\n",
       "      <td>1699.637433</td>\n",
       "      <td>5.176471</td>\n",
       "      <td>26.810695</td>\n",
       "      <td>48.322995</td>\n",
       "      <td>5.916578</td>\n",
       "      <td>93.330588</td>\n",
       "      <td>5.837433</td>\n",
       "      <td>2.386096</td>\n",
       "      <td>0.034225</td>\n",
       "      <td>73.737968</td>\n",
       "      <td>0.094118</td>\n",
       "      <td>0.088770</td>\n",
       "      <td>2.647059</td>\n",
       "      <td>5.487166</td>\n",
       "    </tr>\n",
       "    <tr>\n",
       "      <th>std</th>\n",
       "      <td>11.553921</td>\n",
       "      <td>981.322735</td>\n",
       "      <td>4.012545</td>\n",
       "      <td>16.233161</td>\n",
       "      <td>87.163402</td>\n",
       "      <td>6.938047</td>\n",
       "      <td>72.028771</td>\n",
       "      <td>22.811942</td>\n",
       "      <td>2.990280</td>\n",
       "      <td>0.219267</td>\n",
       "      <td>48.922838</td>\n",
       "      <td>0.309931</td>\n",
       "      <td>0.323313</td>\n",
       "      <td>4.149963</td>\n",
       "      <td>1.276264</td>\n",
       "    </tr>\n",
       "    <tr>\n",
       "      <th>min</th>\n",
       "      <td>0.000000</td>\n",
       "      <td>90.000000</td>\n",
       "      <td>0.000000</td>\n",
       "      <td>0.000000</td>\n",
       "      <td>0.000000</td>\n",
       "      <td>0.000000</td>\n",
       "      <td>1.600000</td>\n",
       "      <td>0.000000</td>\n",
       "      <td>0.000000</td>\n",
       "      <td>0.000000</td>\n",
       "      <td>0.000000</td>\n",
       "      <td>0.000000</td>\n",
       "      <td>0.000000</td>\n",
       "      <td>0.000000</td>\n",
       "      <td>4.000000</td>\n",
       "    </tr>\n",
       "    <tr>\n",
       "      <th>25%</th>\n",
       "      <td>9.000000</td>\n",
       "      <td>839.500000</td>\n",
       "      <td>2.000000</td>\n",
       "      <td>13.000000</td>\n",
       "      <td>0.000000</td>\n",
       "      <td>1.000000</td>\n",
       "      <td>39.250000</td>\n",
       "      <td>0.000000</td>\n",
       "      <td>0.000000</td>\n",
       "      <td>0.000000</td>\n",
       "      <td>35.000000</td>\n",
       "      <td>0.000000</td>\n",
       "      <td>0.000000</td>\n",
       "      <td>0.000000</td>\n",
       "      <td>4.500000</td>\n",
       "    </tr>\n",
       "    <tr>\n",
       "      <th>50%</th>\n",
       "      <td>19.000000</td>\n",
       "      <td>1712.000000</td>\n",
       "      <td>5.000000</td>\n",
       "      <td>26.000000</td>\n",
       "      <td>0.000000</td>\n",
       "      <td>4.000000</td>\n",
       "      <td>77.400000</td>\n",
       "      <td>0.000000</td>\n",
       "      <td>1.000000</td>\n",
       "      <td>0.000000</td>\n",
       "      <td>66.000000</td>\n",
       "      <td>0.000000</td>\n",
       "      <td>0.000000</td>\n",
       "      <td>1.000000</td>\n",
       "      <td>5.000000</td>\n",
       "    </tr>\n",
       "    <tr>\n",
       "      <th>75%</th>\n",
       "      <td>29.000000</td>\n",
       "      <td>2554.500000</td>\n",
       "      <td>8.000000</td>\n",
       "      <td>38.000000</td>\n",
       "      <td>70.500000</td>\n",
       "      <td>9.000000</td>\n",
       "      <td>127.300000</td>\n",
       "      <td>0.000000</td>\n",
       "      <td>3.000000</td>\n",
       "      <td>0.000000</td>\n",
       "      <td>107.000000</td>\n",
       "      <td>0.000000</td>\n",
       "      <td>0.000000</td>\n",
       "      <td>3.000000</td>\n",
       "      <td>6.000000</td>\n",
       "    </tr>\n",
       "    <tr>\n",
       "      <th>max</th>\n",
       "      <td>38.000000</td>\n",
       "      <td>3420.000000</td>\n",
       "      <td>19.000000</td>\n",
       "      <td>79.000000</td>\n",
       "      <td>455.000000</td>\n",
       "      <td>55.000000</td>\n",
       "      <td>476.000000</td>\n",
       "      <td>154.000000</td>\n",
       "      <td>18.000000</td>\n",
       "      <td>2.000000</td>\n",
       "      <td>344.000000</td>\n",
       "      <td>2.000000</td>\n",
       "      <td>3.000000</td>\n",
       "      <td>36.000000</td>\n",
       "      <td>14.500000</td>\n",
       "    </tr>\n",
       "  </tbody>\n",
       "</table>\n",
       "</div>"
      ],
      "text/plain": [
       "       games-started  minutes-played  clean-sheets  goals-conceded  \\\n",
       "count     935.000000      935.000000    935.000000      935.000000   \n",
       "mean       19.100535     1699.637433      5.176471       26.810695   \n",
       "std        11.553921      981.322735      4.012545       16.233161   \n",
       "min         0.000000       90.000000      0.000000        0.000000   \n",
       "25%         9.000000      839.500000      2.000000       13.000000   \n",
       "50%        19.000000     1712.000000      5.000000       26.000000   \n",
       "75%        29.000000     2554.500000      8.000000       38.000000   \n",
       "max        38.000000     3420.000000     19.000000       79.000000   \n",
       "\n",
       "       defensive-contribution       bonus   ict-index       saves     assists  \\\n",
       "count              935.000000  935.000000  935.000000  935.000000  935.000000   \n",
       "mean                48.322995    5.916578   93.330588    5.837433    2.386096   \n",
       "std                 87.163402    6.938047   72.028771   22.811942    2.990280   \n",
       "min                  0.000000    0.000000    1.600000    0.000000    0.000000   \n",
       "25%                  0.000000    1.000000   39.250000    0.000000    0.000000   \n",
       "50%                  0.000000    4.000000   77.400000    0.000000    1.000000   \n",
       "75%                 70.500000    9.000000  127.300000    0.000000    3.000000   \n",
       "max                455.000000   55.000000  476.000000  154.000000   18.000000   \n",
       "\n",
       "       penalties-saved      points   red-cards   own-goals  goals-scored  \\\n",
       "count       935.000000  935.000000  935.000000  935.000000    935.000000   \n",
       "mean          0.034225   73.737968    0.094118    0.088770      2.647059   \n",
       "std           0.219267   48.922838    0.309931    0.323313      4.149963   \n",
       "min           0.000000    0.000000    0.000000    0.000000      0.000000   \n",
       "25%           0.000000   35.000000    0.000000    0.000000      0.000000   \n",
       "50%           0.000000   66.000000    0.000000    0.000000      1.000000   \n",
       "75%           0.000000  107.000000    0.000000    0.000000      3.000000   \n",
       "max           2.000000  344.000000    2.000000    3.000000     36.000000   \n",
       "\n",
       "       current-price  \n",
       "count     935.000000  \n",
       "mean        5.487166  \n",
       "std         1.276264  \n",
       "min         4.000000  \n",
       "25%         4.500000  \n",
       "50%         5.000000  \n",
       "75%         6.000000  \n",
       "max        14.500000  "
      ]
     },
     "execution_count": 37,
     "metadata": {},
     "output_type": "execute_result"
    }
   ],
   "source": [
    "df.describe()"
   ]
  },
  {
   "cell_type": "code",
   "execution_count": 38,
   "id": "c00cef6f",
   "metadata": {},
   "outputs": [],
   "source": [
    "# remove seasons of a player with no matches played\n",
    "lowest_games = df.loc[df['games-started'] < 1].index\n",
    "for i in lowest_games:\n",
    "    df.drop(index=i, inplace=True)"
   ]
  },
  {
   "cell_type": "code",
   "execution_count": 39,
   "id": "cec644da",
   "metadata": {},
   "outputs": [],
   "source": [
    "# remove seasons of a player with less than 10 points\n",
    "lowest_points = df.loc[df.points < 10].index\n",
    "for i in lowest_points:\n",
    "    df.drop(index=i, inplace=True)"
   ]
  },
  {
   "cell_type": "code",
   "execution_count": 40,
   "id": "a851c9d8",
   "metadata": {},
   "outputs": [
    {
     "name": "stdout",
     "output_type": "stream",
     "text": [
      "<class 'pandas.core.frame.DataFrame'>\n",
      "Index: 879 entries, 0 to 1012\n",
      "Data columns (total 19 columns):\n",
      " #   Column                  Non-Null Count  Dtype  \n",
      "---  ------                  --------------  -----  \n",
      " 0   name                    879 non-null    object \n",
      " 1   role                    879 non-null    object \n",
      " 2   club                    879 non-null    object \n",
      " 3   games-started           879 non-null    int64  \n",
      " 4   minutes-played          879 non-null    int64  \n",
      " 5   clean-sheets            879 non-null    int64  \n",
      " 6   goals-conceded          879 non-null    int64  \n",
      " 7   defensive-contribution  879 non-null    int64  \n",
      " 8   bonus                   879 non-null    int64  \n",
      " 9   ict-index               879 non-null    float64\n",
      " 10  saves                   879 non-null    int64  \n",
      " 11  assists                 879 non-null    int64  \n",
      " 12  penalties-saved         879 non-null    int64  \n",
      " 13  points                  879 non-null    int64  \n",
      " 14  red-cards               879 non-null    int64  \n",
      " 15  own-goals               879 non-null    int64  \n",
      " 16  goals-scored            879 non-null    int64  \n",
      " 17  current-price           879 non-null    float64\n",
      " 18  season_year             879 non-null    object \n",
      "dtypes: float64(2), int64(13), object(4)\n",
      "memory usage: 137.3+ KB\n"
     ]
    }
   ],
   "source": [
    "df.info()"
   ]
  },
  {
   "cell_type": "markdown",
   "id": "30cf82b3",
   "metadata": {},
   "source": [
    "# Feature Engineering"
   ]
  },
  {
   "cell_type": "markdown",
   "id": "2f9572bd",
   "metadata": {},
   "source": [
    "### Assigning weights to related features"
   ]
  },
  {
   "cell_type": "code",
   "execution_count": 41,
   "id": "867230dd",
   "metadata": {},
   "outputs": [
    {
     "data": {
      "text/html": [
       "<div>\n",
       "<style scoped>\n",
       "    .dataframe tbody tr th:only-of-type {\n",
       "        vertical-align: middle;\n",
       "    }\n",
       "\n",
       "    .dataframe tbody tr th {\n",
       "        vertical-align: top;\n",
       "    }\n",
       "\n",
       "    .dataframe thead th {\n",
       "        text-align: right;\n",
       "    }\n",
       "</style>\n",
       "<table border=\"1\" class=\"dataframe\">\n",
       "  <thead>\n",
       "    <tr style=\"text-align: right;\">\n",
       "      <th></th>\n",
       "      <th>name</th>\n",
       "      <th>role</th>\n",
       "      <th>club</th>\n",
       "      <th>games-started</th>\n",
       "      <th>minutes-played</th>\n",
       "      <th>clean-sheets</th>\n",
       "      <th>goals-conceded</th>\n",
       "      <th>defensive-contribution</th>\n",
       "      <th>bonus</th>\n",
       "      <th>ict-index</th>\n",
       "      <th>saves</th>\n",
       "      <th>assists</th>\n",
       "      <th>penalties-saved</th>\n",
       "      <th>points</th>\n",
       "      <th>red-cards</th>\n",
       "      <th>own-goals</th>\n",
       "      <th>goals-scored</th>\n",
       "      <th>current-price</th>\n",
       "      <th>season_year</th>\n",
       "    </tr>\n",
       "  </thead>\n",
       "  <tbody>\n",
       "    <tr>\n",
       "      <th>0</th>\n",
       "      <td>Mohamed Salah</td>\n",
       "      <td>Midfielder</td>\n",
       "      <td>Liverpool</td>\n",
       "      <td>38</td>\n",
       "      <td>3374</td>\n",
       "      <td>15</td>\n",
       "      <td>40</td>\n",
       "      <td>136</td>\n",
       "      <td>55</td>\n",
       "      <td>476.0</td>\n",
       "      <td>0</td>\n",
       "      <td>18</td>\n",
       "      <td>0</td>\n",
       "      <td>344</td>\n",
       "      <td>0</td>\n",
       "      <td>0</td>\n",
       "      <td>29</td>\n",
       "      <td>14.5</td>\n",
       "      <td>2025</td>\n",
       "    </tr>\n",
       "    <tr>\n",
       "      <th>1</th>\n",
       "      <td>Mohamed Salah</td>\n",
       "      <td>Midfielder</td>\n",
       "      <td>Liverpool</td>\n",
       "      <td>28</td>\n",
       "      <td>2531</td>\n",
       "      <td>8</td>\n",
       "      <td>30</td>\n",
       "      <td>0</td>\n",
       "      <td>24</td>\n",
       "      <td>346.0</td>\n",
       "      <td>0</td>\n",
       "      <td>12</td>\n",
       "      <td>0</td>\n",
       "      <td>211</td>\n",
       "      <td>0</td>\n",
       "      <td>0</td>\n",
       "      <td>18</td>\n",
       "      <td>14.5</td>\n",
       "      <td>2024</td>\n",
       "    </tr>\n",
       "    <tr>\n",
       "      <th>2</th>\n",
       "      <td>Mohamed Salah</td>\n",
       "      <td>Midfielder</td>\n",
       "      <td>Liverpool</td>\n",
       "      <td>37</td>\n",
       "      <td>3290</td>\n",
       "      <td>13</td>\n",
       "      <td>45</td>\n",
       "      <td>0</td>\n",
       "      <td>23</td>\n",
       "      <td>365.6</td>\n",
       "      <td>0</td>\n",
       "      <td>13</td>\n",
       "      <td>0</td>\n",
       "      <td>239</td>\n",
       "      <td>0</td>\n",
       "      <td>0</td>\n",
       "      <td>19</td>\n",
       "      <td>14.5</td>\n",
       "      <td>2023</td>\n",
       "    </tr>\n",
       "    <tr>\n",
       "      <th>3</th>\n",
       "      <td>Bryan Mbeumo</td>\n",
       "      <td>Midfielder</td>\n",
       "      <td>Man Utd</td>\n",
       "      <td>38</td>\n",
       "      <td>3415</td>\n",
       "      <td>9</td>\n",
       "      <td>55</td>\n",
       "      <td>273</td>\n",
       "      <td>29</td>\n",
       "      <td>340.8</td>\n",
       "      <td>0</td>\n",
       "      <td>9</td>\n",
       "      <td>0</td>\n",
       "      <td>236</td>\n",
       "      <td>0</td>\n",
       "      <td>0</td>\n",
       "      <td>20</td>\n",
       "      <td>8.0</td>\n",
       "      <td>2025</td>\n",
       "    </tr>\n",
       "    <tr>\n",
       "      <th>4</th>\n",
       "      <td>Bryan Mbeumo</td>\n",
       "      <td>Midfielder</td>\n",
       "      <td>Man Utd</td>\n",
       "      <td>22</td>\n",
       "      <td>1957</td>\n",
       "      <td>5</td>\n",
       "      <td>31</td>\n",
       "      <td>0</td>\n",
       "      <td>12</td>\n",
       "      <td>170.1</td>\n",
       "      <td>0</td>\n",
       "      <td>7</td>\n",
       "      <td>0</td>\n",
       "      <td>127</td>\n",
       "      <td>0</td>\n",
       "      <td>0</td>\n",
       "      <td>9</td>\n",
       "      <td>8.0</td>\n",
       "      <td>2024</td>\n",
       "    </tr>\n",
       "  </tbody>\n",
       "</table>\n",
       "</div>"
      ],
      "text/plain": [
       "            name        role       club  games-started  minutes-played  \\\n",
       "0  Mohamed Salah  Midfielder  Liverpool             38            3374   \n",
       "1  Mohamed Salah  Midfielder  Liverpool             28            2531   \n",
       "2  Mohamed Salah  Midfielder  Liverpool             37            3290   \n",
       "3   Bryan Mbeumo  Midfielder    Man Utd             38            3415   \n",
       "4   Bryan Mbeumo  Midfielder    Man Utd             22            1957   \n",
       "\n",
       "   clean-sheets  goals-conceded  defensive-contribution  bonus  ict-index  \\\n",
       "0            15              40                     136     55      476.0   \n",
       "1             8              30                       0     24      346.0   \n",
       "2            13              45                       0     23      365.6   \n",
       "3             9              55                     273     29      340.8   \n",
       "4             5              31                       0     12      170.1   \n",
       "\n",
       "   saves  assists  penalties-saved  points  red-cards  own-goals  \\\n",
       "0      0       18                0     344          0          0   \n",
       "1      0       12                0     211          0          0   \n",
       "2      0       13                0     239          0          0   \n",
       "3      0        9                0     236          0          0   \n",
       "4      0        7                0     127          0          0   \n",
       "\n",
       "   goals-scored  current-price season_year  \n",
       "0            29           14.5        2025  \n",
       "1            18           14.5        2024  \n",
       "2            19           14.5        2023  \n",
       "3            20            8.0        2025  \n",
       "4             9            8.0        2024  "
      ]
     },
     "execution_count": 41,
     "metadata": {},
     "output_type": "execute_result"
    }
   ],
   "source": [
    "df.head()"
   ]
  },
  {
   "cell_type": "code",
   "execution_count": 42,
   "id": "c04c411b",
   "metadata": {},
   "outputs": [],
   "source": [
    "weights = {\n",
    "    'clean_sheets': 4,\n",
    "    'goals-conceded': -2,\n",
    "    'bonus': 3,\n",
    "    'own-goals': -5,\n",
    "    'red-cards': -5,\n",
    "    'minutes-played': 0.01,\n",
    "    'penalties-saved': 6,\n",
    "    'points': 0.1,\n",
    "    'defensive-contribution': 0.1,\n",
    "    'ict': 0.01\n",
    "}"
   ]
  },
  {
   "cell_type": "markdown",
   "id": "797e3a5b",
   "metadata": {},
   "source": [
    "### Adding a 'Performance' label that represents a simple overall quality of the player"
   ]
  },
  {
   "cell_type": "code",
   "execution_count": 43,
   "id": "9021ae7a",
   "metadata": {},
   "outputs": [],
   "source": [
    "import numpy as np\n",
    "df['Performance'] = np.round(df['goals-scored'] + df['assists'] + weights['bonus'] * df['bonus'] + weights['goals-conceded'] * df['goals-conceded'] + weights['clean_sheets'] * df['clean-sheets'] + weights['own-goals'] * df['own-goals'] + weights['red-cards'] * df['red-cards'] + df['saves'] + weights['minutes-played'] * df['minutes-played'] + weights['defensive-contribution'] * df['defensive-contribution'] + weights['penalties-saved'] * df['penalties-saved'] + weights['points'] * df['points'] + weights['ict'] * df['ict-index'])"
   ]
  },
  {
   "cell_type": "code",
   "execution_count": 44,
   "id": "1c0afc49",
   "metadata": {},
   "outputs": [
    {
     "data": {
      "text/html": [
       "<div>\n",
       "<style scoped>\n",
       "    .dataframe tbody tr th:only-of-type {\n",
       "        vertical-align: middle;\n",
       "    }\n",
       "\n",
       "    .dataframe tbody tr th {\n",
       "        vertical-align: top;\n",
       "    }\n",
       "\n",
       "    .dataframe thead th {\n",
       "        text-align: right;\n",
       "    }\n",
       "</style>\n",
       "<table border=\"1\" class=\"dataframe\">\n",
       "  <thead>\n",
       "    <tr style=\"text-align: right;\">\n",
       "      <th></th>\n",
       "      <th>name</th>\n",
       "      <th>role</th>\n",
       "      <th>club</th>\n",
       "      <th>games-started</th>\n",
       "      <th>minutes-played</th>\n",
       "      <th>clean-sheets</th>\n",
       "      <th>goals-conceded</th>\n",
       "      <th>defensive-contribution</th>\n",
       "      <th>bonus</th>\n",
       "      <th>ict-index</th>\n",
       "      <th>saves</th>\n",
       "      <th>assists</th>\n",
       "      <th>penalties-saved</th>\n",
       "      <th>points</th>\n",
       "      <th>red-cards</th>\n",
       "      <th>own-goals</th>\n",
       "      <th>goals-scored</th>\n",
       "      <th>current-price</th>\n",
       "      <th>season_year</th>\n",
       "      <th>Performance</th>\n",
       "    </tr>\n",
       "  </thead>\n",
       "  <tbody>\n",
       "    <tr>\n",
       "      <th>0</th>\n",
       "      <td>Mohamed Salah</td>\n",
       "      <td>Midfielder</td>\n",
       "      <td>Liverpool</td>\n",
       "      <td>38</td>\n",
       "      <td>3374</td>\n",
       "      <td>15</td>\n",
       "      <td>40</td>\n",
       "      <td>136</td>\n",
       "      <td>55</td>\n",
       "      <td>476.0</td>\n",
       "      <td>0</td>\n",
       "      <td>18</td>\n",
       "      <td>0</td>\n",
       "      <td>344</td>\n",
       "      <td>0</td>\n",
       "      <td>0</td>\n",
       "      <td>29</td>\n",
       "      <td>14.5</td>\n",
       "      <td>2025</td>\n",
       "      <td>278.0</td>\n",
       "    </tr>\n",
       "    <tr>\n",
       "      <th>1</th>\n",
       "      <td>Mohamed Salah</td>\n",
       "      <td>Midfielder</td>\n",
       "      <td>Liverpool</td>\n",
       "      <td>28</td>\n",
       "      <td>2531</td>\n",
       "      <td>8</td>\n",
       "      <td>30</td>\n",
       "      <td>0</td>\n",
       "      <td>24</td>\n",
       "      <td>346.0</td>\n",
       "      <td>0</td>\n",
       "      <td>12</td>\n",
       "      <td>0</td>\n",
       "      <td>211</td>\n",
       "      <td>0</td>\n",
       "      <td>0</td>\n",
       "      <td>18</td>\n",
       "      <td>14.5</td>\n",
       "      <td>2024</td>\n",
       "      <td>124.0</td>\n",
       "    </tr>\n",
       "    <tr>\n",
       "      <th>2</th>\n",
       "      <td>Mohamed Salah</td>\n",
       "      <td>Midfielder</td>\n",
       "      <td>Liverpool</td>\n",
       "      <td>37</td>\n",
       "      <td>3290</td>\n",
       "      <td>13</td>\n",
       "      <td>45</td>\n",
       "      <td>0</td>\n",
       "      <td>23</td>\n",
       "      <td>365.6</td>\n",
       "      <td>0</td>\n",
       "      <td>13</td>\n",
       "      <td>0</td>\n",
       "      <td>239</td>\n",
       "      <td>0</td>\n",
       "      <td>0</td>\n",
       "      <td>19</td>\n",
       "      <td>14.5</td>\n",
       "      <td>2023</td>\n",
       "      <td>123.0</td>\n",
       "    </tr>\n",
       "    <tr>\n",
       "      <th>3</th>\n",
       "      <td>Bryan Mbeumo</td>\n",
       "      <td>Midfielder</td>\n",
       "      <td>Man Utd</td>\n",
       "      <td>38</td>\n",
       "      <td>3415</td>\n",
       "      <td>9</td>\n",
       "      <td>55</td>\n",
       "      <td>273</td>\n",
       "      <td>29</td>\n",
       "      <td>340.8</td>\n",
       "      <td>0</td>\n",
       "      <td>9</td>\n",
       "      <td>0</td>\n",
       "      <td>236</td>\n",
       "      <td>0</td>\n",
       "      <td>0</td>\n",
       "      <td>20</td>\n",
       "      <td>8.0</td>\n",
       "      <td>2025</td>\n",
       "      <td>130.0</td>\n",
       "    </tr>\n",
       "    <tr>\n",
       "      <th>4</th>\n",
       "      <td>Bryan Mbeumo</td>\n",
       "      <td>Midfielder</td>\n",
       "      <td>Man Utd</td>\n",
       "      <td>22</td>\n",
       "      <td>1957</td>\n",
       "      <td>5</td>\n",
       "      <td>31</td>\n",
       "      <td>0</td>\n",
       "      <td>12</td>\n",
       "      <td>170.1</td>\n",
       "      <td>0</td>\n",
       "      <td>7</td>\n",
       "      <td>0</td>\n",
       "      <td>127</td>\n",
       "      <td>0</td>\n",
       "      <td>0</td>\n",
       "      <td>9</td>\n",
       "      <td>8.0</td>\n",
       "      <td>2024</td>\n",
       "      <td>44.0</td>\n",
       "    </tr>\n",
       "  </tbody>\n",
       "</table>\n",
       "</div>"
      ],
      "text/plain": [
       "            name        role       club  games-started  minutes-played  \\\n",
       "0  Mohamed Salah  Midfielder  Liverpool             38            3374   \n",
       "1  Mohamed Salah  Midfielder  Liverpool             28            2531   \n",
       "2  Mohamed Salah  Midfielder  Liverpool             37            3290   \n",
       "3   Bryan Mbeumo  Midfielder    Man Utd             38            3415   \n",
       "4   Bryan Mbeumo  Midfielder    Man Utd             22            1957   \n",
       "\n",
       "   clean-sheets  goals-conceded  defensive-contribution  bonus  ict-index  \\\n",
       "0            15              40                     136     55      476.0   \n",
       "1             8              30                       0     24      346.0   \n",
       "2            13              45                       0     23      365.6   \n",
       "3             9              55                     273     29      340.8   \n",
       "4             5              31                       0     12      170.1   \n",
       "\n",
       "   saves  assists  penalties-saved  points  red-cards  own-goals  \\\n",
       "0      0       18                0     344          0          0   \n",
       "1      0       12                0     211          0          0   \n",
       "2      0       13                0     239          0          0   \n",
       "3      0        9                0     236          0          0   \n",
       "4      0        7                0     127          0          0   \n",
       "\n",
       "   goals-scored  current-price season_year  Performance  \n",
       "0            29           14.5        2025        278.0  \n",
       "1            18           14.5        2024        124.0  \n",
       "2            19           14.5        2023        123.0  \n",
       "3            20            8.0        2025        130.0  \n",
       "4             9            8.0        2024         44.0  "
      ]
     },
     "execution_count": 44,
     "metadata": {},
     "output_type": "execute_result"
    }
   ],
   "source": [
    "df.head()"
   ]
  },
  {
   "cell_type": "code",
   "execution_count": null,
   "id": "c31e074e",
   "metadata": {},
   "outputs": [],
   "source": [
    "df.to_csv('data/final.csv') # saving work"
   ]
  },
  {
   "cell_type": "markdown",
   "id": "9473700b",
   "metadata": {},
   "source": [
    "### Season trends"
   ]
  },
  {
   "cell_type": "code",
   "execution_count": null,
   "id": "3203ebad",
   "metadata": {},
   "outputs": [],
   "source": [
    "import plotly.express as px # plotting figures"
   ]
  },
  {
   "cell_type": "code",
   "execution_count": 104,
   "id": "6cd8970d",
   "metadata": {},
   "outputs": [],
   "source": [
    "club = 'Liverpool'\n",
    "top_per_club = df[df.club == club].sort_values('Performance', ascending=False)\n",
    "# top_per_club.head()"
   ]
  },
  {
   "cell_type": "code",
   "execution_count": 105,
   "id": "4aa150b5",
   "metadata": {},
   "outputs": [
    {
     "data": {
      "application/vnd.plotly.v1+json": {
       "config": {
        "plotlyServerURL": "https://plot.ly"
       },
       "data": [
        {
         "alignmentgroup": "True",
         "hovertemplate": "season_year=2025<br>name=%{x}<br>Performance=%{y}<extra></extra>",
         "legendgroup": "2025",
         "marker": {
          "color": "#636efa",
          "pattern": {
           "shape": ""
          }
         },
         "name": "2025",
         "offsetgroup": "2025",
         "orientation": "v",
         "showlegend": true,
         "textposition": "auto",
         "type": "bar",
         "x": [
          "Mohamed Salah",
          "Luis Díaz Marulanda",
          "Alisson Becker",
          "Alexis Mac Allister",
          "Dominik Szoboszlai",
          "Cody Gakpo",
          "Virgil van Dijk",
          "Ryan Gravenberch",
          "Ibrahima Konaté",
          "Milos Kerkez",
          "Konstantinos Tsimikas",
          "Curtis Jones",
          "Andrew Robertson",
          "Conor Bradley",
          "Darwin Núñez Ribeiro",
          "Harvey Elliott",
          "Joe Gomez",
          "Endo Wataru"
         ],
         "xaxis": "x",
         "y": {
          "bdata": "AAAAAABgcUAAAAAAACBkQAAAAAAAAF9AAAAAAABAXEAAAAAAAEBbQAAAAAAAgFhAAAAAAADAVUAAAAAAAEBRQAAAAAAAAE5AAAAAAACASkAAAAAAAAA9QAAAAAAAADxAAAAAAAAAOUAAAAAAAAAzQAAAAAAAADJAAAAAAAAAJEAAAAAAAADwvwAAAAAAAPC/",
          "dtype": "f8"
         },
         "yaxis": "y"
        },
        {
         "alignmentgroup": "True",
         "hovertemplate": "season_year=2023<br>name=%{x}<br>Performance=%{y}<extra></extra>",
         "legendgroup": "2023",
         "marker": {
          "color": "#EF553B",
          "pattern": {
           "shape": ""
          }
         },
         "name": "2023",
         "offsetgroup": "2023",
         "orientation": "v",
         "showlegend": true,
         "textposition": "auto",
         "type": "bar",
         "x": [
          "Alisson Becker",
          "Mohamed Salah",
          "Virgil van Dijk",
          "Alexis Mac Allister",
          "Darwin Núñez Ribeiro",
          "Andrew Robertson",
          "Joe Gomez",
          "Luis Díaz Marulanda",
          "Cody Gakpo",
          "Curtis Jones",
          "Konstantinos Tsimikas",
          "Stefan Bajčetić Maquieira",
          "Harvey Elliott",
          "Ibrahima Konaté"
         ],
         "xaxis": "x",
         "y": {
          "bdata": "AAAAAABgZkAAAAAAAMBeQAAAAAAAgExAAAAAAAAATEAAAAAAAABHQAAAAAAAAEdAAAAAAAAAR0AAAAAAAABDQAAAAAAAgEBAAAAAAAAAMkAAAAAAAAAxQAAAAAAAACpAAAAAAAAAKEAAAAAAAAAAgA==",
          "dtype": "f8"
         },
         "yaxis": "y"
        },
        {
         "alignmentgroup": "True",
         "hovertemplate": "season_year=2024<br>name=%{x}<br>Performance=%{y}<extra></extra>",
         "legendgroup": "2024",
         "marker": {
          "color": "#00cc96",
          "pattern": {
           "shape": ""
          }
         },
         "name": "2024",
         "offsetgroup": "2024",
         "orientation": "v",
         "showlegend": true,
         "textposition": "auto",
         "type": "bar",
         "x": [
          "Mohamed Salah",
          "Alisson Becker",
          "Darwin Núñez Ribeiro",
          "Cody Gakpo",
          "Harvey Elliott",
          "Dominik Szoboszlai",
          "Luis Díaz Marulanda",
          "Alexis Mac Allister",
          "Conor Bradley",
          "Konstantinos Tsimikas",
          "Joe Gomez",
          "Virgil van Dijk",
          "Andrew Robertson",
          "Endo Wataru",
          "Ibrahima Konaté",
          "Ryan Gravenberch",
          "Curtis Jones",
          "Milos Kerkez"
         ],
         "xaxis": "x",
         "y": {
          "bdata": "AAAAAAAAX0AAAAAAAMBdQAAAAAAAgE1AAAAAAAAATUAAAAAAAABJQAAAAAAAgEdAAAAAAACAR0AAAAAAAABCQAAAAAAAAD9AAAAAAAAAPUAAAAAAAAA4QAAAAAAAADhAAAAAAAAAN0AAAAAAAAAuQAAAAAAAACJAAAAAAAAAEEAAAAAAAAAmwAAAAAAAAD3A",
          "dtype": "f8"
         },
         "yaxis": "y"
        }
       ],
       "layout": {
        "barmode": "group",
        "legend": {
         "title": {
          "text": "season_year"
         },
         "tracegroupgap": 0
        },
        "template": {
         "data": {
          "bar": [
           {
            "error_x": {
             "color": "#2a3f5f"
            },
            "error_y": {
             "color": "#2a3f5f"
            },
            "marker": {
             "line": {
              "color": "#E5ECF6",
              "width": 0.5
             },
             "pattern": {
              "fillmode": "overlay",
              "size": 10,
              "solidity": 0.2
             }
            },
            "type": "bar"
           }
          ],
          "barpolar": [
           {
            "marker": {
             "line": {
              "color": "#E5ECF6",
              "width": 0.5
             },
             "pattern": {
              "fillmode": "overlay",
              "size": 10,
              "solidity": 0.2
             }
            },
            "type": "barpolar"
           }
          ],
          "carpet": [
           {
            "aaxis": {
             "endlinecolor": "#2a3f5f",
             "gridcolor": "white",
             "linecolor": "white",
             "minorgridcolor": "white",
             "startlinecolor": "#2a3f5f"
            },
            "baxis": {
             "endlinecolor": "#2a3f5f",
             "gridcolor": "white",
             "linecolor": "white",
             "minorgridcolor": "white",
             "startlinecolor": "#2a3f5f"
            },
            "type": "carpet"
           }
          ],
          "choropleth": [
           {
            "colorbar": {
             "outlinewidth": 0,
             "ticks": ""
            },
            "type": "choropleth"
           }
          ],
          "contour": [
           {
            "colorbar": {
             "outlinewidth": 0,
             "ticks": ""
            },
            "colorscale": [
             [
              0,
              "#0d0887"
             ],
             [
              0.1111111111111111,
              "#46039f"
             ],
             [
              0.2222222222222222,
              "#7201a8"
             ],
             [
              0.3333333333333333,
              "#9c179e"
             ],
             [
              0.4444444444444444,
              "#bd3786"
             ],
             [
              0.5555555555555556,
              "#d8576b"
             ],
             [
              0.6666666666666666,
              "#ed7953"
             ],
             [
              0.7777777777777778,
              "#fb9f3a"
             ],
             [
              0.8888888888888888,
              "#fdca26"
             ],
             [
              1,
              "#f0f921"
             ]
            ],
            "type": "contour"
           }
          ],
          "contourcarpet": [
           {
            "colorbar": {
             "outlinewidth": 0,
             "ticks": ""
            },
            "type": "contourcarpet"
           }
          ],
          "heatmap": [
           {
            "colorbar": {
             "outlinewidth": 0,
             "ticks": ""
            },
            "colorscale": [
             [
              0,
              "#0d0887"
             ],
             [
              0.1111111111111111,
              "#46039f"
             ],
             [
              0.2222222222222222,
              "#7201a8"
             ],
             [
              0.3333333333333333,
              "#9c179e"
             ],
             [
              0.4444444444444444,
              "#bd3786"
             ],
             [
              0.5555555555555556,
              "#d8576b"
             ],
             [
              0.6666666666666666,
              "#ed7953"
             ],
             [
              0.7777777777777778,
              "#fb9f3a"
             ],
             [
              0.8888888888888888,
              "#fdca26"
             ],
             [
              1,
              "#f0f921"
             ]
            ],
            "type": "heatmap"
           }
          ],
          "histogram": [
           {
            "marker": {
             "pattern": {
              "fillmode": "overlay",
              "size": 10,
              "solidity": 0.2
             }
            },
            "type": "histogram"
           }
          ],
          "histogram2d": [
           {
            "colorbar": {
             "outlinewidth": 0,
             "ticks": ""
            },
            "colorscale": [
             [
              0,
              "#0d0887"
             ],
             [
              0.1111111111111111,
              "#46039f"
             ],
             [
              0.2222222222222222,
              "#7201a8"
             ],
             [
              0.3333333333333333,
              "#9c179e"
             ],
             [
              0.4444444444444444,
              "#bd3786"
             ],
             [
              0.5555555555555556,
              "#d8576b"
             ],
             [
              0.6666666666666666,
              "#ed7953"
             ],
             [
              0.7777777777777778,
              "#fb9f3a"
             ],
             [
              0.8888888888888888,
              "#fdca26"
             ],
             [
              1,
              "#f0f921"
             ]
            ],
            "type": "histogram2d"
           }
          ],
          "histogram2dcontour": [
           {
            "colorbar": {
             "outlinewidth": 0,
             "ticks": ""
            },
            "colorscale": [
             [
              0,
              "#0d0887"
             ],
             [
              0.1111111111111111,
              "#46039f"
             ],
             [
              0.2222222222222222,
              "#7201a8"
             ],
             [
              0.3333333333333333,
              "#9c179e"
             ],
             [
              0.4444444444444444,
              "#bd3786"
             ],
             [
              0.5555555555555556,
              "#d8576b"
             ],
             [
              0.6666666666666666,
              "#ed7953"
             ],
             [
              0.7777777777777778,
              "#fb9f3a"
             ],
             [
              0.8888888888888888,
              "#fdca26"
             ],
             [
              1,
              "#f0f921"
             ]
            ],
            "type": "histogram2dcontour"
           }
          ],
          "mesh3d": [
           {
            "colorbar": {
             "outlinewidth": 0,
             "ticks": ""
            },
            "type": "mesh3d"
           }
          ],
          "parcoords": [
           {
            "line": {
             "colorbar": {
              "outlinewidth": 0,
              "ticks": ""
             }
            },
            "type": "parcoords"
           }
          ],
          "pie": [
           {
            "automargin": true,
            "type": "pie"
           }
          ],
          "scatter": [
           {
            "fillpattern": {
             "fillmode": "overlay",
             "size": 10,
             "solidity": 0.2
            },
            "type": "scatter"
           }
          ],
          "scatter3d": [
           {
            "line": {
             "colorbar": {
              "outlinewidth": 0,
              "ticks": ""
             }
            },
            "marker": {
             "colorbar": {
              "outlinewidth": 0,
              "ticks": ""
             }
            },
            "type": "scatter3d"
           }
          ],
          "scattercarpet": [
           {
            "marker": {
             "colorbar": {
              "outlinewidth": 0,
              "ticks": ""
             }
            },
            "type": "scattercarpet"
           }
          ],
          "scattergeo": [
           {
            "marker": {
             "colorbar": {
              "outlinewidth": 0,
              "ticks": ""
             }
            },
            "type": "scattergeo"
           }
          ],
          "scattergl": [
           {
            "marker": {
             "colorbar": {
              "outlinewidth": 0,
              "ticks": ""
             }
            },
            "type": "scattergl"
           }
          ],
          "scattermap": [
           {
            "marker": {
             "colorbar": {
              "outlinewidth": 0,
              "ticks": ""
             }
            },
            "type": "scattermap"
           }
          ],
          "scattermapbox": [
           {
            "marker": {
             "colorbar": {
              "outlinewidth": 0,
              "ticks": ""
             }
            },
            "type": "scattermapbox"
           }
          ],
          "scatterpolar": [
           {
            "marker": {
             "colorbar": {
              "outlinewidth": 0,
              "ticks": ""
             }
            },
            "type": "scatterpolar"
           }
          ],
          "scatterpolargl": [
           {
            "marker": {
             "colorbar": {
              "outlinewidth": 0,
              "ticks": ""
             }
            },
            "type": "scatterpolargl"
           }
          ],
          "scatterternary": [
           {
            "marker": {
             "colorbar": {
              "outlinewidth": 0,
              "ticks": ""
             }
            },
            "type": "scatterternary"
           }
          ],
          "surface": [
           {
            "colorbar": {
             "outlinewidth": 0,
             "ticks": ""
            },
            "colorscale": [
             [
              0,
              "#0d0887"
             ],
             [
              0.1111111111111111,
              "#46039f"
             ],
             [
              0.2222222222222222,
              "#7201a8"
             ],
             [
              0.3333333333333333,
              "#9c179e"
             ],
             [
              0.4444444444444444,
              "#bd3786"
             ],
             [
              0.5555555555555556,
              "#d8576b"
             ],
             [
              0.6666666666666666,
              "#ed7953"
             ],
             [
              0.7777777777777778,
              "#fb9f3a"
             ],
             [
              0.8888888888888888,
              "#fdca26"
             ],
             [
              1,
              "#f0f921"
             ]
            ],
            "type": "surface"
           }
          ],
          "table": [
           {
            "cells": {
             "fill": {
              "color": "#EBF0F8"
             },
             "line": {
              "color": "white"
             }
            },
            "header": {
             "fill": {
              "color": "#C8D4E3"
             },
             "line": {
              "color": "white"
             }
            },
            "type": "table"
           }
          ]
         },
         "layout": {
          "annotationdefaults": {
           "arrowcolor": "#2a3f5f",
           "arrowhead": 0,
           "arrowwidth": 1
          },
          "autotypenumbers": "strict",
          "coloraxis": {
           "colorbar": {
            "outlinewidth": 0,
            "ticks": ""
           }
          },
          "colorscale": {
           "diverging": [
            [
             0,
             "#8e0152"
            ],
            [
             0.1,
             "#c51b7d"
            ],
            [
             0.2,
             "#de77ae"
            ],
            [
             0.3,
             "#f1b6da"
            ],
            [
             0.4,
             "#fde0ef"
            ],
            [
             0.5,
             "#f7f7f7"
            ],
            [
             0.6,
             "#e6f5d0"
            ],
            [
             0.7,
             "#b8e186"
            ],
            [
             0.8,
             "#7fbc41"
            ],
            [
             0.9,
             "#4d9221"
            ],
            [
             1,
             "#276419"
            ]
           ],
           "sequential": [
            [
             0,
             "#0d0887"
            ],
            [
             0.1111111111111111,
             "#46039f"
            ],
            [
             0.2222222222222222,
             "#7201a8"
            ],
            [
             0.3333333333333333,
             "#9c179e"
            ],
            [
             0.4444444444444444,
             "#bd3786"
            ],
            [
             0.5555555555555556,
             "#d8576b"
            ],
            [
             0.6666666666666666,
             "#ed7953"
            ],
            [
             0.7777777777777778,
             "#fb9f3a"
            ],
            [
             0.8888888888888888,
             "#fdca26"
            ],
            [
             1,
             "#f0f921"
            ]
           ],
           "sequentialminus": [
            [
             0,
             "#0d0887"
            ],
            [
             0.1111111111111111,
             "#46039f"
            ],
            [
             0.2222222222222222,
             "#7201a8"
            ],
            [
             0.3333333333333333,
             "#9c179e"
            ],
            [
             0.4444444444444444,
             "#bd3786"
            ],
            [
             0.5555555555555556,
             "#d8576b"
            ],
            [
             0.6666666666666666,
             "#ed7953"
            ],
            [
             0.7777777777777778,
             "#fb9f3a"
            ],
            [
             0.8888888888888888,
             "#fdca26"
            ],
            [
             1,
             "#f0f921"
            ]
           ]
          },
          "colorway": [
           "#636efa",
           "#EF553B",
           "#00cc96",
           "#ab63fa",
           "#FFA15A",
           "#19d3f3",
           "#FF6692",
           "#B6E880",
           "#FF97FF",
           "#FECB52"
          ],
          "font": {
           "color": "#2a3f5f"
          },
          "geo": {
           "bgcolor": "white",
           "lakecolor": "white",
           "landcolor": "#E5ECF6",
           "showlakes": true,
           "showland": true,
           "subunitcolor": "white"
          },
          "hoverlabel": {
           "align": "left"
          },
          "hovermode": "closest",
          "mapbox": {
           "style": "light"
          },
          "paper_bgcolor": "white",
          "plot_bgcolor": "#E5ECF6",
          "polar": {
           "angularaxis": {
            "gridcolor": "white",
            "linecolor": "white",
            "ticks": ""
           },
           "bgcolor": "#E5ECF6",
           "radialaxis": {
            "gridcolor": "white",
            "linecolor": "white",
            "ticks": ""
           }
          },
          "scene": {
           "xaxis": {
            "backgroundcolor": "#E5ECF6",
            "gridcolor": "white",
            "gridwidth": 2,
            "linecolor": "white",
            "showbackground": true,
            "ticks": "",
            "zerolinecolor": "white"
           },
           "yaxis": {
            "backgroundcolor": "#E5ECF6",
            "gridcolor": "white",
            "gridwidth": 2,
            "linecolor": "white",
            "showbackground": true,
            "ticks": "",
            "zerolinecolor": "white"
           },
           "zaxis": {
            "backgroundcolor": "#E5ECF6",
            "gridcolor": "white",
            "gridwidth": 2,
            "linecolor": "white",
            "showbackground": true,
            "ticks": "",
            "zerolinecolor": "white"
           }
          },
          "shapedefaults": {
           "line": {
            "color": "#2a3f5f"
           }
          },
          "ternary": {
           "aaxis": {
            "gridcolor": "white",
            "linecolor": "white",
            "ticks": ""
           },
           "baxis": {
            "gridcolor": "white",
            "linecolor": "white",
            "ticks": ""
           },
           "bgcolor": "#E5ECF6",
           "caxis": {
            "gridcolor": "white",
            "linecolor": "white",
            "ticks": ""
           }
          },
          "title": {
           "x": 0.05
          },
          "xaxis": {
           "automargin": true,
           "gridcolor": "white",
           "linecolor": "white",
           "ticks": "",
           "title": {
            "standoff": 15
           },
           "zerolinecolor": "white",
           "zerolinewidth": 2
          },
          "yaxis": {
           "automargin": true,
           "gridcolor": "white",
           "linecolor": "white",
           "ticks": "",
           "title": {
            "standoff": 15
           },
           "zerolinecolor": "white",
           "zerolinewidth": 2
          }
         }
        },
        "title": {
         "text": "Liverpool Player Performance"
        },
        "xaxis": {
         "anchor": "y",
         "domain": [
          0,
          1
         ],
         "title": {
          "text": "name"
         }
        },
        "yaxis": {
         "anchor": "x",
         "domain": [
          0,
          1
         ],
         "title": {
          "text": "Performance"
         }
        }
       }
      }
     },
     "metadata": {},
     "output_type": "display_data"
    }
   ],
   "source": [
    "px.bar(top_per_club, top_per_club.name, top_per_club.Performance, color='season_year', barmode='group', title=f\"{club} Player Performance\")"
   ]
  },
  {
   "cell_type": "code",
   "execution_count": 119,
   "id": "bbcadf7a",
   "metadata": {},
   "outputs": [
    {
     "data": {
      "text/html": [
       "<div>\n",
       "<style scoped>\n",
       "    .dataframe tbody tr th:only-of-type {\n",
       "        vertical-align: middle;\n",
       "    }\n",
       "\n",
       "    .dataframe tbody tr th {\n",
       "        vertical-align: top;\n",
       "    }\n",
       "\n",
       "    .dataframe thead th {\n",
       "        text-align: right;\n",
       "    }\n",
       "</style>\n",
       "<table border=\"1\" class=\"dataframe\">\n",
       "  <thead>\n",
       "    <tr style=\"text-align: right;\">\n",
       "      <th></th>\n",
       "      <th>name</th>\n",
       "      <th>role</th>\n",
       "      <th>club</th>\n",
       "      <th>games-started</th>\n",
       "      <th>minutes-played</th>\n",
       "      <th>clean-sheets</th>\n",
       "      <th>goals-conceded</th>\n",
       "      <th>defensive-contribution</th>\n",
       "      <th>bonus</th>\n",
       "      <th>ict-index</th>\n",
       "      <th>saves</th>\n",
       "      <th>assists</th>\n",
       "      <th>penalties-saved</th>\n",
       "      <th>points</th>\n",
       "      <th>red-cards</th>\n",
       "      <th>own-goals</th>\n",
       "      <th>goals-scored</th>\n",
       "      <th>current-price</th>\n",
       "      <th>season_year</th>\n",
       "      <th>Performance</th>\n",
       "    </tr>\n",
       "  </thead>\n",
       "  <tbody>\n",
       "    <tr>\n",
       "      <th>1</th>\n",
       "      <td>Mohamed Salah</td>\n",
       "      <td>Midfielder</td>\n",
       "      <td>Liverpool</td>\n",
       "      <td>28</td>\n",
       "      <td>2531</td>\n",
       "      <td>8</td>\n",
       "      <td>30</td>\n",
       "      <td>0</td>\n",
       "      <td>24</td>\n",
       "      <td>346.0</td>\n",
       "      <td>0</td>\n",
       "      <td>12</td>\n",
       "      <td>0</td>\n",
       "      <td>211</td>\n",
       "      <td>0</td>\n",
       "      <td>0</td>\n",
       "      <td>18</td>\n",
       "      <td>14.5</td>\n",
       "      <td>2024</td>\n",
       "      <td>124.0</td>\n",
       "    </tr>\n",
       "    <tr>\n",
       "      <th>4</th>\n",
       "      <td>Bryan Mbeumo</td>\n",
       "      <td>Midfielder</td>\n",
       "      <td>Man Utd</td>\n",
       "      <td>22</td>\n",
       "      <td>1957</td>\n",
       "      <td>5</td>\n",
       "      <td>31</td>\n",
       "      <td>0</td>\n",
       "      <td>12</td>\n",
       "      <td>170.1</td>\n",
       "      <td>0</td>\n",
       "      <td>7</td>\n",
       "      <td>0</td>\n",
       "      <td>127</td>\n",
       "      <td>0</td>\n",
       "      <td>0</td>\n",
       "      <td>9</td>\n",
       "      <td>8.0</td>\n",
       "      <td>2024</td>\n",
       "      <td>44.0</td>\n",
       "    </tr>\n",
       "    <tr>\n",
       "      <th>7</th>\n",
       "      <td>Cole Palmer</td>\n",
       "      <td>Midfielder</td>\n",
       "      <td>Chelsea</td>\n",
       "      <td>29</td>\n",
       "      <td>2617</td>\n",
       "      <td>7</td>\n",
       "      <td>46</td>\n",
       "      <td>0</td>\n",
       "      <td>32</td>\n",
       "      <td>327.8</td>\n",
       "      <td>0</td>\n",
       "      <td>13</td>\n",
       "      <td>0</td>\n",
       "      <td>244</td>\n",
       "      <td>0</td>\n",
       "      <td>0</td>\n",
       "      <td>22</td>\n",
       "      <td>10.5</td>\n",
       "      <td>2024</td>\n",
       "      <td>121.0</td>\n",
       "    </tr>\n",
       "    <tr>\n",
       "      <th>10</th>\n",
       "      <td>Alexander Isak</td>\n",
       "      <td>Forward</td>\n",
       "      <td>Newcastle</td>\n",
       "      <td>27</td>\n",
       "      <td>2253</td>\n",
       "      <td>7</td>\n",
       "      <td>41</td>\n",
       "      <td>0</td>\n",
       "      <td>23</td>\n",
       "      <td>229.3</td>\n",
       "      <td>0</td>\n",
       "      <td>4</td>\n",
       "      <td>0</td>\n",
       "      <td>172</td>\n",
       "      <td>0</td>\n",
       "      <td>0</td>\n",
       "      <td>21</td>\n",
       "      <td>10.5</td>\n",
       "      <td>2024</td>\n",
       "      <td>82.0</td>\n",
       "    </tr>\n",
       "    <tr>\n",
       "      <th>13</th>\n",
       "      <td>Chris Wood</td>\n",
       "      <td>Forward</td>\n",
       "      <td>Nott'm Forest</td>\n",
       "      <td>20</td>\n",
       "      <td>1801</td>\n",
       "      <td>2</td>\n",
       "      <td>34</td>\n",
       "      <td>0</td>\n",
       "      <td>22</td>\n",
       "      <td>167.4</td>\n",
       "      <td>0</td>\n",
       "      <td>1</td>\n",
       "      <td>0</td>\n",
       "      <td>131</td>\n",
       "      <td>0</td>\n",
       "      <td>0</td>\n",
       "      <td>14</td>\n",
       "      <td>7.5</td>\n",
       "      <td>2024</td>\n",
       "      <td>54.0</td>\n",
       "    </tr>\n",
       "  </tbody>\n",
       "</table>\n",
       "</div>"
      ],
      "text/plain": [
       "              name        role           club  games-started  minutes-played  \\\n",
       "1    Mohamed Salah  Midfielder      Liverpool             28            2531   \n",
       "4     Bryan Mbeumo  Midfielder        Man Utd             22            1957   \n",
       "7      Cole Palmer  Midfielder        Chelsea             29            2617   \n",
       "10  Alexander Isak     Forward      Newcastle             27            2253   \n",
       "13      Chris Wood     Forward  Nott'm Forest             20            1801   \n",
       "\n",
       "    clean-sheets  goals-conceded  defensive-contribution  bonus  ict-index  \\\n",
       "1              8              30                       0     24      346.0   \n",
       "4              5              31                       0     12      170.1   \n",
       "7              7              46                       0     32      327.8   \n",
       "10             7              41                       0     23      229.3   \n",
       "13             2              34                       0     22      167.4   \n",
       "\n",
       "    saves  assists  penalties-saved  points  red-cards  own-goals  \\\n",
       "1       0       12                0     211          0          0   \n",
       "4       0        7                0     127          0          0   \n",
       "7       0       13                0     244          0          0   \n",
       "10      0        4                0     172          0          0   \n",
       "13      0        1                0     131          0          0   \n",
       "\n",
       "    goals-scored  current-price season_year  Performance  \n",
       "1             18           14.5        2024        124.0  \n",
       "4              9            8.0        2024         44.0  \n",
       "7             22           10.5        2024        121.0  \n",
       "10            21           10.5        2024         82.0  \n",
       "13            14            7.5        2024         54.0  "
      ]
     },
     "execution_count": 119,
     "metadata": {},
     "output_type": "execute_result"
    }
   ],
   "source": [
    "year = '2024'\n",
    "top_clubs_per_season = df[df.season_year == year]\n",
    "top_clubs_per_season.head()"
   ]
  },
  {
   "cell_type": "code",
   "execution_count": 120,
   "id": "b30f881d",
   "metadata": {},
   "outputs": [
    {
     "data": {
      "application/vnd.plotly.v1+json": {
       "config": {
        "plotlyServerURL": "https://plot.ly"
       },
       "data": [
        {
         "domain": {
          "x": [
           0,
           1
          ],
          "y": [
           0,
           1
          ]
         },
         "hovertemplate": "club=%{label}<br>Performance=%{value}<extra></extra>",
         "labels": [
          "Liverpool",
          "Man Utd",
          "Chelsea",
          "Newcastle",
          "Nott'm Forest",
          "West Ham",
          "Aston Villa",
          "Brentford",
          "Liverpool",
          "Man City",
          "Man Utd",
          "Man Utd",
          "Bournemouth",
          "Aston Villa",
          "Newcastle",
          "Bournemouth",
          "Everton",
          "Fulham",
          "Nott'm Forest",
          "Man City",
          "Newcastle",
          "Arsenal",
          "Crystal Palace",
          "Nott'm Forest",
          "Brentford",
          "Crystal Palace",
          "Fulham",
          "Brighton",
          "Liverpool",
          "Liverpool",
          "Arsenal",
          "Crystal Palace",
          "Spurs",
          "Chelsea",
          "Crystal Palace",
          "Newcastle",
          "Liverpool",
          "Chelsea",
          "Spurs",
          "Brentford",
          "Arsenal",
          "Newcastle",
          "Nott'm Forest",
          "Man Utd",
          "Nott'm Forest",
          "Arsenal",
          "Arsenal",
          "Brentford",
          "Liverpool",
          "Chelsea",
          "Chelsea",
          "West Ham",
          "Arsenal",
          "Brighton",
          "Man City",
          "Newcastle",
          "Crystal Palace",
          "Liverpool",
          "Aston Villa",
          "Chelsea",
          "Everton",
          "Arsenal",
          "Man Utd",
          "Newcastle",
          "West Ham",
          "Arsenal",
          "Spurs",
          "Arsenal",
          "Crystal Palace",
          "Fulham",
          "Newcastle",
          "Fulham",
          "Liverpool",
          "Aston Villa",
          "Bournemouth",
          "Man City",
          "Man City",
          "Chelsea",
          "Man City",
          "Nott'm Forest",
          "Spurs",
          "Arsenal",
          "Nott'm Forest",
          "Fulham",
          "Liverpool",
          "Man Utd",
          "Newcastle",
          "Spurs",
          "Everton",
          "Man City",
          "Newcastle",
          "Chelsea",
          "Aston Villa",
          "Brighton",
          "Nott'm Forest",
          "Newcastle",
          "Newcastle",
          "Newcastle",
          "Chelsea",
          "Spurs",
          "Arsenal",
          "Fulham",
          "Man Utd",
          "Bournemouth",
          "Brentford",
          "Chelsea",
          "Everton",
          "Wolves",
          "Liverpool",
          "Liverpool",
          "Man City",
          "Wolves",
          "Aston Villa",
          "Brighton",
          "Everton",
          "Everton",
          "Man City",
          "Bournemouth",
          "Brighton",
          "Brighton",
          "Everton",
          "Liverpool",
          "Wolves",
          "Fulham",
          "Bournemouth",
          "West Ham",
          "Fulham",
          "Leeds",
          "Man City",
          "West Ham",
          "Wolves",
          "Aston Villa",
          "Fulham",
          "Man Utd",
          "Aston Villa",
          "Bournemouth",
          "West Ham",
          "Brighton",
          "Wolves",
          "Brentford",
          "Newcastle",
          "Chelsea",
          "Spurs",
          "West Ham",
          "Crystal Palace",
          "Man Utd",
          "Crystal Palace",
          "Nott'm Forest",
          "Aston Villa",
          "Liverpool",
          "Man City",
          "Spurs",
          "Aston Villa",
          "Brighton",
          "Man City",
          "Chelsea",
          "Chelsea",
          "Sunderland",
          "Brighton",
          "Brighton",
          "Crystal Palace",
          "Aston Villa",
          "Aston Villa",
          "Bournemouth",
          "Fulham",
          "Aston Villa",
          "Chelsea",
          "Nott'm Forest",
          "Crystal Palace",
          "Fulham",
          "Bournemouth",
          "Wolves",
          "Fulham",
          "West Ham",
          "Arsenal",
          "Spurs",
          "Fulham",
          "Spurs",
          "Spurs",
          "Man Utd",
          "Man Utd",
          "Aston Villa",
          "Brentford",
          "Fulham",
          "Newcastle",
          "Brentford",
          "West Ham",
          "Aston Villa",
          "Burnley",
          "Brighton",
          "Arsenal",
          "Brentford",
          "Liverpool",
          "Spurs",
          "Arsenal",
          "Brighton",
          "Crystal Palace",
          "Everton",
          "Man Utd",
          "Liverpool",
          "Arsenal",
          "West Ham",
          "Brentford",
          "Brighton",
          "Brentford",
          "Man City",
          "Wolves",
          "Brentford",
          "Man City",
          "Spurs",
          "Aston Villa",
          "Leeds",
          "Spurs",
          "Fulham",
          "Liverpool",
          "Bournemouth",
          "Nott'm Forest",
          "Spurs",
          "Bournemouth",
          "Fulham",
          "Man City",
          "Man City",
          "Brighton",
          "Spurs",
          "Arsenal",
          "Man City",
          "Bournemouth",
          "Man City",
          "Man Utd",
          "Spurs",
          "Bournemouth",
          "Everton",
          "Liverpool",
          "Newcastle",
          "Nott'm Forest",
          "Crystal Palace",
          "Everton",
          "Newcastle",
          "Brighton",
          "Crystal Palace",
          "Newcastle",
          "Newcastle",
          "Everton",
          "Liverpool",
          "Burnley",
          "Wolves",
          "Bournemouth",
          "Fulham",
          "Brighton",
          "Crystal Palace",
          "Wolves",
          "Man Utd",
          "Bournemouth",
          "Brighton",
          "Chelsea",
          "Chelsea",
          "Crystal Palace",
          "Brighton",
          "Nott'm Forest",
          "Everton",
          "Man Utd",
          "Brentford",
          "Everton",
          "Man City",
          "Man City",
          "Brentford",
          "West Ham",
          "Wolves",
          "Arsenal",
          "Arsenal",
          "Aston Villa",
          "Aston Villa",
          "Burnley",
          "Burnley",
          "Burnley",
          "Burnley",
          "Burnley",
          "Burnley",
          "Burnley",
          "Burnley",
          "Burnley",
          "Burnley",
          "Burnley",
          "Burnley",
          "Burnley",
          "Burnley",
          "Burnley",
          "Bournemouth",
          "Bournemouth",
          "Brentford",
          "Leeds",
          "Man City",
          "Newcastle",
          "Newcastle",
          "Newcastle",
          "Nott'm Forest",
          "Spurs",
          "Spurs",
          "Spurs",
          "West Ham",
          "West Ham",
          "West Ham",
          "Wolves",
          "Wolves"
         ],
         "legendgroup": "",
         "name": "",
         "showlegend": true,
         "type": "pie",
         "values": {
          "bdata": "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",
          "dtype": "f8"
         }
        }
       ],
       "layout": {
        "legend": {
         "tracegroupgap": 0
        },
        "template": {
         "data": {
          "bar": [
           {
            "error_x": {
             "color": "#2a3f5f"
            },
            "error_y": {
             "color": "#2a3f5f"
            },
            "marker": {
             "line": {
              "color": "#E5ECF6",
              "width": 0.5
             },
             "pattern": {
              "fillmode": "overlay",
              "size": 10,
              "solidity": 0.2
             }
            },
            "type": "bar"
           }
          ],
          "barpolar": [
           {
            "marker": {
             "line": {
              "color": "#E5ECF6",
              "width": 0.5
             },
             "pattern": {
              "fillmode": "overlay",
              "size": 10,
              "solidity": 0.2
             }
            },
            "type": "barpolar"
           }
          ],
          "carpet": [
           {
            "aaxis": {
             "endlinecolor": "#2a3f5f",
             "gridcolor": "white",
             "linecolor": "white",
             "minorgridcolor": "white",
             "startlinecolor": "#2a3f5f"
            },
            "baxis": {
             "endlinecolor": "#2a3f5f",
             "gridcolor": "white",
             "linecolor": "white",
             "minorgridcolor": "white",
             "startlinecolor": "#2a3f5f"
            },
            "type": "carpet"
           }
          ],
          "choropleth": [
           {
            "colorbar": {
             "outlinewidth": 0,
             "ticks": ""
            },
            "type": "choropleth"
           }
          ],
          "contour": [
           {
            "colorbar": {
             "outlinewidth": 0,
             "ticks": ""
            },
            "colorscale": [
             [
              0,
              "#0d0887"
             ],
             [
              0.1111111111111111,
              "#46039f"
             ],
             [
              0.2222222222222222,
              "#7201a8"
             ],
             [
              0.3333333333333333,
              "#9c179e"
             ],
             [
              0.4444444444444444,
              "#bd3786"
             ],
             [
              0.5555555555555556,
              "#d8576b"
             ],
             [
              0.6666666666666666,
              "#ed7953"
             ],
             [
              0.7777777777777778,
              "#fb9f3a"
             ],
             [
              0.8888888888888888,
              "#fdca26"
             ],
             [
              1,
              "#f0f921"
             ]
            ],
            "type": "contour"
           }
          ],
          "contourcarpet": [
           {
            "colorbar": {
             "outlinewidth": 0,
             "ticks": ""
            },
            "type": "contourcarpet"
           }
          ],
          "heatmap": [
           {
            "colorbar": {
             "outlinewidth": 0,
             "ticks": ""
            },
            "colorscale": [
             [
              0,
              "#0d0887"
             ],
             [
              0.1111111111111111,
              "#46039f"
             ],
             [
              0.2222222222222222,
              "#7201a8"
             ],
             [
              0.3333333333333333,
              "#9c179e"
             ],
             [
              0.4444444444444444,
              "#bd3786"
             ],
             [
              0.5555555555555556,
              "#d8576b"
             ],
             [
              0.6666666666666666,
              "#ed7953"
             ],
             [
              0.7777777777777778,
              "#fb9f3a"
             ],
             [
              0.8888888888888888,
              "#fdca26"
             ],
             [
              1,
              "#f0f921"
             ]
            ],
            "type": "heatmap"
           }
          ],
          "histogram": [
           {
            "marker": {
             "pattern": {
              "fillmode": "overlay",
              "size": 10,
              "solidity": 0.2
             }
            },
            "type": "histogram"
           }
          ],
          "histogram2d": [
           {
            "colorbar": {
             "outlinewidth": 0,
             "ticks": ""
            },
            "colorscale": [
             [
              0,
              "#0d0887"
             ],
             [
              0.1111111111111111,
              "#46039f"
             ],
             [
              0.2222222222222222,
              "#7201a8"
             ],
             [
              0.3333333333333333,
              "#9c179e"
             ],
             [
              0.4444444444444444,
              "#bd3786"
             ],
             [
              0.5555555555555556,
              "#d8576b"
             ],
             [
              0.6666666666666666,
              "#ed7953"
             ],
             [
              0.7777777777777778,
              "#fb9f3a"
             ],
             [
              0.8888888888888888,
              "#fdca26"
             ],
             [
              1,
              "#f0f921"
             ]
            ],
            "type": "histogram2d"
           }
          ],
          "histogram2dcontour": [
           {
            "colorbar": {
             "outlinewidth": 0,
             "ticks": ""
            },
            "colorscale": [
             [
              0,
              "#0d0887"
             ],
             [
              0.1111111111111111,
              "#46039f"
             ],
             [
              0.2222222222222222,
              "#7201a8"
             ],
             [
              0.3333333333333333,
              "#9c179e"
             ],
             [
              0.4444444444444444,
              "#bd3786"
             ],
             [
              0.5555555555555556,
              "#d8576b"
             ],
             [
              0.6666666666666666,
              "#ed7953"
             ],
             [
              0.7777777777777778,
              "#fb9f3a"
             ],
             [
              0.8888888888888888,
              "#fdca26"
             ],
             [
              1,
              "#f0f921"
             ]
            ],
            "type": "histogram2dcontour"
           }
          ],
          "mesh3d": [
           {
            "colorbar": {
             "outlinewidth": 0,
             "ticks": ""
            },
            "type": "mesh3d"
           }
          ],
          "parcoords": [
           {
            "line": {
             "colorbar": {
              "outlinewidth": 0,
              "ticks": ""
             }
            },
            "type": "parcoords"
           }
          ],
          "pie": [
           {
            "automargin": true,
            "type": "pie"
           }
          ],
          "scatter": [
           {
            "fillpattern": {
             "fillmode": "overlay",
             "size": 10,
             "solidity": 0.2
            },
            "type": "scatter"
           }
          ],
          "scatter3d": [
           {
            "line": {
             "colorbar": {
              "outlinewidth": 0,
              "ticks": ""
             }
            },
            "marker": {
             "colorbar": {
              "outlinewidth": 0,
              "ticks": ""
             }
            },
            "type": "scatter3d"
           }
          ],
          "scattercarpet": [
           {
            "marker": {
             "colorbar": {
              "outlinewidth": 0,
              "ticks": ""
             }
            },
            "type": "scattercarpet"
           }
          ],
          "scattergeo": [
           {
            "marker": {
             "colorbar": {
              "outlinewidth": 0,
              "ticks": ""
             }
            },
            "type": "scattergeo"
           }
          ],
          "scattergl": [
           {
            "marker": {
             "colorbar": {
              "outlinewidth": 0,
              "ticks": ""
             }
            },
            "type": "scattergl"
           }
          ],
          "scattermap": [
           {
            "marker": {
             "colorbar": {
              "outlinewidth": 0,
              "ticks": ""
             }
            },
            "type": "scattermap"
           }
          ],
          "scattermapbox": [
           {
            "marker": {
             "colorbar": {
              "outlinewidth": 0,
              "ticks": ""
             }
            },
            "type": "scattermapbox"
           }
          ],
          "scatterpolar": [
           {
            "marker": {
             "colorbar": {
              "outlinewidth": 0,
              "ticks": ""
             }
            },
            "type": "scatterpolar"
           }
          ],
          "scatterpolargl": [
           {
            "marker": {
             "colorbar": {
              "outlinewidth": 0,
              "ticks": ""
             }
            },
            "type": "scatterpolargl"
           }
          ],
          "scatterternary": [
           {
            "marker": {
             "colorbar": {
              "outlinewidth": 0,
              "ticks": ""
             }
            },
            "type": "scatterternary"
           }
          ],
          "surface": [
           {
            "colorbar": {
             "outlinewidth": 0,
             "ticks": ""
            },
            "colorscale": [
             [
              0,
              "#0d0887"
             ],
             [
              0.1111111111111111,
              "#46039f"
             ],
             [
              0.2222222222222222,
              "#7201a8"
             ],
             [
              0.3333333333333333,
              "#9c179e"
             ],
             [
              0.4444444444444444,
              "#bd3786"
             ],
             [
              0.5555555555555556,
              "#d8576b"
             ],
             [
              0.6666666666666666,
              "#ed7953"
             ],
             [
              0.7777777777777778,
              "#fb9f3a"
             ],
             [
              0.8888888888888888,
              "#fdca26"
             ],
             [
              1,
              "#f0f921"
             ]
            ],
            "type": "surface"
           }
          ],
          "table": [
           {
            "cells": {
             "fill": {
              "color": "#EBF0F8"
             },
             "line": {
              "color": "white"
             }
            },
            "header": {
             "fill": {
              "color": "#C8D4E3"
             },
             "line": {
              "color": "white"
             }
            },
            "type": "table"
           }
          ]
         },
         "layout": {
          "annotationdefaults": {
           "arrowcolor": "#2a3f5f",
           "arrowhead": 0,
           "arrowwidth": 1
          },
          "autotypenumbers": "strict",
          "coloraxis": {
           "colorbar": {
            "outlinewidth": 0,
            "ticks": ""
           }
          },
          "colorscale": {
           "diverging": [
            [
             0,
             "#8e0152"
            ],
            [
             0.1,
             "#c51b7d"
            ],
            [
             0.2,
             "#de77ae"
            ],
            [
             0.3,
             "#f1b6da"
            ],
            [
             0.4,
             "#fde0ef"
            ],
            [
             0.5,
             "#f7f7f7"
            ],
            [
             0.6,
             "#e6f5d0"
            ],
            [
             0.7,
             "#b8e186"
            ],
            [
             0.8,
             "#7fbc41"
            ],
            [
             0.9,
             "#4d9221"
            ],
            [
             1,
             "#276419"
            ]
           ],
           "sequential": [
            [
             0,
             "#0d0887"
            ],
            [
             0.1111111111111111,
             "#46039f"
            ],
            [
             0.2222222222222222,
             "#7201a8"
            ],
            [
             0.3333333333333333,
             "#9c179e"
            ],
            [
             0.4444444444444444,
             "#bd3786"
            ],
            [
             0.5555555555555556,
             "#d8576b"
            ],
            [
             0.6666666666666666,
             "#ed7953"
            ],
            [
             0.7777777777777778,
             "#fb9f3a"
            ],
            [
             0.8888888888888888,
             "#fdca26"
            ],
            [
             1,
             "#f0f921"
            ]
           ],
           "sequentialminus": [
            [
             0,
             "#0d0887"
            ],
            [
             0.1111111111111111,
             "#46039f"
            ],
            [
             0.2222222222222222,
             "#7201a8"
            ],
            [
             0.3333333333333333,
             "#9c179e"
            ],
            [
             0.4444444444444444,
             "#bd3786"
            ],
            [
             0.5555555555555556,
             "#d8576b"
            ],
            [
             0.6666666666666666,
             "#ed7953"
            ],
            [
             0.7777777777777778,
             "#fb9f3a"
            ],
            [
             0.8888888888888888,
             "#fdca26"
            ],
            [
             1,
             "#f0f921"
            ]
           ]
          },
          "colorway": [
           "#636efa",
           "#EF553B",
           "#00cc96",
           "#ab63fa",
           "#FFA15A",
           "#19d3f3",
           "#FF6692",
           "#B6E880",
           "#FF97FF",
           "#FECB52"
          ],
          "font": {
           "color": "#2a3f5f"
          },
          "geo": {
           "bgcolor": "white",
           "lakecolor": "white",
           "landcolor": "#E5ECF6",
           "showlakes": true,
           "showland": true,
           "subunitcolor": "white"
          },
          "hoverlabel": {
           "align": "left"
          },
          "hovermode": "closest",
          "mapbox": {
           "style": "light"
          },
          "paper_bgcolor": "white",
          "plot_bgcolor": "#E5ECF6",
          "polar": {
           "angularaxis": {
            "gridcolor": "white",
            "linecolor": "white",
            "ticks": ""
           },
           "bgcolor": "#E5ECF6",
           "radialaxis": {
            "gridcolor": "white",
            "linecolor": "white",
            "ticks": ""
           }
          },
          "scene": {
           "xaxis": {
            "backgroundcolor": "#E5ECF6",
            "gridcolor": "white",
            "gridwidth": 2,
            "linecolor": "white",
            "showbackground": true,
            "ticks": "",
            "zerolinecolor": "white"
           },
           "yaxis": {
            "backgroundcolor": "#E5ECF6",
            "gridcolor": "white",
            "gridwidth": 2,
            "linecolor": "white",
            "showbackground": true,
            "ticks": "",
            "zerolinecolor": "white"
           },
           "zaxis": {
            "backgroundcolor": "#E5ECF6",
            "gridcolor": "white",
            "gridwidth": 2,
            "linecolor": "white",
            "showbackground": true,
            "ticks": "",
            "zerolinecolor": "white"
           }
          },
          "shapedefaults": {
           "line": {
            "color": "#2a3f5f"
           }
          },
          "ternary": {
           "aaxis": {
            "gridcolor": "white",
            "linecolor": "white",
            "ticks": ""
           },
           "baxis": {
            "gridcolor": "white",
            "linecolor": "white",
            "ticks": ""
           },
           "bgcolor": "#E5ECF6",
           "caxis": {
            "gridcolor": "white",
            "linecolor": "white",
            "ticks": ""
           }
          },
          "title": {
           "x": 0.05
          },
          "xaxis": {
           "automargin": true,
           "gridcolor": "white",
           "linecolor": "white",
           "ticks": "",
           "title": {
            "standoff": 15
           },
           "zerolinecolor": "white",
           "zerolinewidth": 2
          },
          "yaxis": {
           "automargin": true,
           "gridcolor": "white",
           "linecolor": "white",
           "ticks": "",
           "title": {
            "standoff": 15
           },
           "zerolinecolor": "white",
           "zerolinewidth": 2
          }
         }
        },
        "title": {
         "text": "Top Clubs in 2024"
        }
       }
      }
     },
     "metadata": {},
     "output_type": "display_data"
    }
   ],
   "source": [
    "px.pie(top_clubs_per_season, top_clubs_per_season.club, top_clubs_per_season.Performance, title=f\"Top Clubs in {year}\")"
   ]
  }
 ],
 "metadata": {
  "kernelspec": {
   "display_name": "Python 3",
   "language": "python",
   "name": "python3"
  },
  "language_info": {
   "codemirror_mode": {
    "name": "ipython",
    "version": 3
   },
   "file_extension": ".py",
   "mimetype": "text/x-python",
   "name": "python",
   "nbconvert_exporter": "python",
   "pygments_lexer": "ipython3",
   "version": "3.13.5"
  }
 },
 "nbformat": 4,
 "nbformat_minor": 5
}
